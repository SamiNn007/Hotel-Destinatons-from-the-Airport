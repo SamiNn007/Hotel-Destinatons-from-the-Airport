{
 "cells": [
  {
   "cell_type": "code",
   "execution_count": 1,
   "metadata": {},
   "outputs": [],
   "source": [
    "import pandas as pd\n",
    "import numpy as np"
   ]
  },
  {
   "cell_type": "code",
   "execution_count": 37,
   "metadata": {},
   "outputs": [],
   "source": [
    "new_data = [['0', 'FC Porto', 'Porto', 'Estadio do Dragao', '50033', '41.161621', '-8.583784'],\n",
    "            ['1', 'SL Benfica ', 'Lisbon', 'Estadio da Luz', '64642', '38.752089', '-9.185006'],\n",
    "            ['3', 'SC Braga', 'Braga', 'Estadio Municipal de Braga', '30286', '41.562686', '-8.429818']]"
   ]
  },
  {
   "cell_type": "code",
   "execution_count": 38,
   "metadata": {},
   "outputs": [],
   "source": [
    "new = pd.DataFrame(new_data)"
   ]
  },
  {
   "cell_type": "code",
   "execution_count": 39,
   "metadata": {},
   "outputs": [
    {
     "data": {
      "text/html": [
       "<div>\n",
       "<style scoped>\n",
       "    .dataframe tbody tr th:only-of-type {\n",
       "        vertical-align: middle;\n",
       "    }\n",
       "\n",
       "    .dataframe tbody tr th {\n",
       "        vertical-align: top;\n",
       "    }\n",
       "\n",
       "    .dataframe thead th {\n",
       "        text-align: right;\n",
       "    }\n",
       "</style>\n",
       "<table border=\"1\" class=\"dataframe\">\n",
       "  <thead>\n",
       "    <tr style=\"text-align: right;\">\n",
       "      <th></th>\n",
       "      <th>0</th>\n",
       "      <th>1</th>\n",
       "      <th>2</th>\n",
       "      <th>3</th>\n",
       "      <th>4</th>\n",
       "      <th>5</th>\n",
       "      <th>6</th>\n",
       "    </tr>\n",
       "  </thead>\n",
       "  <tbody>\n",
       "    <tr>\n",
       "      <th>0</th>\n",
       "      <td>0</td>\n",
       "      <td>FC Porto</td>\n",
       "      <td>Porto</td>\n",
       "      <td>Estadio do Dragao</td>\n",
       "      <td>50033</td>\n",
       "      <td>41.161621</td>\n",
       "      <td>-8.583784</td>\n",
       "    </tr>\n",
       "    <tr>\n",
       "      <th>1</th>\n",
       "      <td>1</td>\n",
       "      <td>SL Benfica</td>\n",
       "      <td>Lisbon</td>\n",
       "      <td>Estadio da Luz</td>\n",
       "      <td>64642</td>\n",
       "      <td>38.752089</td>\n",
       "      <td>-9.185006</td>\n",
       "    </tr>\n",
       "    <tr>\n",
       "      <th>2</th>\n",
       "      <td>3</td>\n",
       "      <td>SC Braga</td>\n",
       "      <td>Braga</td>\n",
       "      <td>Estadio Municipal de Braga</td>\n",
       "      <td>30286</td>\n",
       "      <td>41.562686</td>\n",
       "      <td>-8.429818</td>\n",
       "    </tr>\n",
       "  </tbody>\n",
       "</table>\n",
       "</div>"
      ],
      "text/plain": [
       "   0            1       2                           3      4          5  \\\n",
       "0  0     FC Porto   Porto           Estadio do Dragao  50033  41.161621   \n",
       "1  1  SL Benfica   Lisbon              Estadio da Luz  64642  38.752089   \n",
       "2  3     SC Braga   Braga  Estadio Municipal de Braga  30286  41.562686   \n",
       "\n",
       "           6  \n",
       "0  -8.583784  \n",
       "1  -9.185006  \n",
       "2  -8.429818  "
      ]
     },
     "execution_count": 39,
     "metadata": {},
     "output_type": "execute_result"
    }
   ],
   "source": [
    "new"
   ]
  },
  {
   "cell_type": "code",
   "execution_count": 40,
   "metadata": {},
   "outputs": [],
   "source": [
    "new_df = new.rename(columns={0: 'city_id', 1:'Team', 2:'City', 3:'Stadium', 4:'Capacity', 5:'Latt', 6:'Long'})"
   ]
  },
  {
   "cell_type": "code",
   "execution_count": 41,
   "metadata": {},
   "outputs": [
    {
     "data": {
      "text/html": [
       "<div>\n",
       "<style scoped>\n",
       "    .dataframe tbody tr th:only-of-type {\n",
       "        vertical-align: middle;\n",
       "    }\n",
       "\n",
       "    .dataframe tbody tr th {\n",
       "        vertical-align: top;\n",
       "    }\n",
       "\n",
       "    .dataframe thead th {\n",
       "        text-align: right;\n",
       "    }\n",
       "</style>\n",
       "<table border=\"1\" class=\"dataframe\">\n",
       "  <thead>\n",
       "    <tr style=\"text-align: right;\">\n",
       "      <th></th>\n",
       "      <th>city_id</th>\n",
       "      <th>Team</th>\n",
       "      <th>City</th>\n",
       "      <th>Stadium</th>\n",
       "      <th>Capacity</th>\n",
       "      <th>Latt</th>\n",
       "      <th>Long</th>\n",
       "    </tr>\n",
       "  </thead>\n",
       "  <tbody>\n",
       "    <tr>\n",
       "      <th>0</th>\n",
       "      <td>0</td>\n",
       "      <td>FC Porto</td>\n",
       "      <td>Porto</td>\n",
       "      <td>Estadio do Dragao</td>\n",
       "      <td>50033</td>\n",
       "      <td>41.161621</td>\n",
       "      <td>-8.583784</td>\n",
       "    </tr>\n",
       "    <tr>\n",
       "      <th>1</th>\n",
       "      <td>1</td>\n",
       "      <td>SL Benfica</td>\n",
       "      <td>Lisbon</td>\n",
       "      <td>Estadio da Luz</td>\n",
       "      <td>64642</td>\n",
       "      <td>38.752089</td>\n",
       "      <td>-9.185006</td>\n",
       "    </tr>\n",
       "    <tr>\n",
       "      <th>2</th>\n",
       "      <td>3</td>\n",
       "      <td>SC Braga</td>\n",
       "      <td>Braga</td>\n",
       "      <td>Estadio Municipal de Braga</td>\n",
       "      <td>30286</td>\n",
       "      <td>41.562686</td>\n",
       "      <td>-8.429818</td>\n",
       "    </tr>\n",
       "  </tbody>\n",
       "</table>\n",
       "</div>"
      ],
      "text/plain": [
       "  city_id         Team    City                     Stadium Capacity  \\\n",
       "0       0     FC Porto   Porto           Estadio do Dragao    50033   \n",
       "1       1  SL Benfica   Lisbon              Estadio da Luz    64642   \n",
       "2       3     SC Braga   Braga  Estadio Municipal de Braga    30286   \n",
       "\n",
       "        Latt       Long  \n",
       "0  41.161621  -8.583784  \n",
       "1  38.752089  -9.185006  \n",
       "2  41.562686  -8.429818  "
      ]
     },
     "execution_count": 41,
     "metadata": {},
     "output_type": "execute_result"
    }
   ],
   "source": [
    "new_df2 = new_df\n",
    "new_df2"
   ]
  },
  {
   "cell_type": "code",
   "execution_count": null,
   "metadata": {},
   "outputs": [],
   "source": [
    "new_df2.to_csv('new_df2.csv', index=False)"
   ]
  },
  {
   "cell_type": "code",
   "execution_count": null,
   "metadata": {},
   "outputs": [],
   "source": []
  }
 ],
 "metadata": {
  "kernelspec": {
   "display_name": "Python 3.9.13 ('ClassJuly7')",
   "language": "python",
   "name": "python3"
  },
  "language_info": {
   "codemirror_mode": {
    "name": "ipython",
    "version": 3
   },
   "file_extension": ".py",
   "mimetype": "text/x-python",
   "name": "python",
   "nbconvert_exporter": "python",
   "pygments_lexer": "ipython3",
   "version": "3.9.13"
  },
  "orig_nbformat": 4,
  "vscode": {
   "interpreter": {
    "hash": "26ce022d4acb40739b66637a34781e557fcd0150734cbabfddd6b99484a439c0"
   }
  }
 },
 "nbformat": 4,
 "nbformat_minor": 2
}
